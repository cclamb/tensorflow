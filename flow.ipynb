{
 "cells": [
  {
   "cell_type": "code",
   "execution_count": 136,
   "metadata": {
    "collapsed": false
   },
   "outputs": [
    {
     "name": "stderr",
     "output_type": "stream",
     "text": [
      "Exception AssertionError: AssertionError() in <bound method InteractiveSession.__del__ of <tensorflow.python.client.session.InteractiveSession object at 0x10992a3d0>> ignored\n"
     ]
    },
    {
     "ename": "ValueError",
     "evalue": "Cannot feed value of shape (2,) for Tensor u'Placeholder_76:0', which has shape (Dimension(1), Dimension(2))",
     "output_type": "error",
     "traceback": [
      "\u001b[0;31m---------------------------------------------------------------------------\u001b[0m",
      "\u001b[0;31mValueError\u001b[0m                                Traceback (most recent call last)",
      "\u001b[0;32m<ipython-input-136-a86520b8aef6>\u001b[0m in \u001b[0;36m<module>\u001b[0;34m()\u001b[0m\n\u001b[1;32m     24\u001b[0m val = s.run(op, feed_dict = {\n\u001b[1;32m     25\u001b[0m         \u001b[0mlhs\u001b[0m\u001b[0;34m:\u001b[0m \u001b[0;34m[\u001b[0m\u001b[0;36m1\u001b[0m\u001b[0;34m,\u001b[0m \u001b[0;36m2\u001b[0m\u001b[0;34m]\u001b[0m\u001b[0;34m,\u001b[0m\u001b[0;34m\u001b[0m\u001b[0m\n\u001b[0;32m---> 26\u001b[0;31m         rhs: tf.transpose([1, 2])})\n\u001b[0m\u001b[1;32m     27\u001b[0m \u001b[0;34m\u001b[0m\u001b[0m\n\u001b[1;32m     28\u001b[0m \u001b[0;31m#val = s.run(op)\u001b[0m\u001b[0;34m\u001b[0m\u001b[0;34m\u001b[0m\u001b[0m\n",
      "\u001b[0;32m/usr/local/lib/python2.7/site-packages/tensorflow/python/client/session.pyc\u001b[0m in \u001b[0;36mrun\u001b[0;34m(self, fetches, feed_dict)\u001b[0m\n\u001b[1;32m    339\u001b[0m                   \u001b[0;34m'which has shape %r'\u001b[0m\u001b[0;34m\u001b[0m\u001b[0m\n\u001b[1;32m    340\u001b[0m                   % (np_val.shape, subfeed_t.name,\n\u001b[0;32m--> 341\u001b[0;31m                      tuple(subfeed_t.get_shape().dims)))\n\u001b[0m\u001b[1;32m    342\u001b[0m           \u001b[0mfeed_dict_string\u001b[0m\u001b[0;34m[\u001b[0m\u001b[0mstr\u001b[0m\u001b[0;34m(\u001b[0m\u001b[0msubfeed_t\u001b[0m\u001b[0;34m.\u001b[0m\u001b[0mname\u001b[0m\u001b[0;34m)\u001b[0m\u001b[0;34m]\u001b[0m \u001b[0;34m=\u001b[0m \u001b[0mnp_val\u001b[0m\u001b[0;34m\u001b[0m\u001b[0m\n\u001b[1;32m    343\u001b[0m \u001b[0;34m\u001b[0m\u001b[0m\n",
      "\u001b[0;31mValueError\u001b[0m: Cannot feed value of shape (2,) for Tensor u'Placeholder_76:0', which has shape (Dimension(1), Dimension(2))"
     ]
    }
   ],
   "source": [
    "import tensorflow as tf\n",
    "import numpy as np\n",
    "\n",
    "NUM_CORES = 6\n",
    "\n",
    "config = tf.ConfigProto(\n",
    "    inter_op_parallelism_threads=NUM_CORES,\n",
    "    intra_op_parallelism_threads=NUM_CORES\n",
    ")\n",
    "\n",
    "s = tf.InteractiveSession()\n",
    "\n",
    "# lhs = tf.constant([[1, 2], [3, 4]])\n",
    "# rhs = tf.constant([[1, 2], [3, 4]])\n",
    "# lhs = tf.constant([1, 2, 3, 4, 5, 6], shape=(2, 3))\n",
    "# rhs = tf.constant([1, 2, 3, 4, 5, 6], shape=(2, 3))\n",
    "# lhs = tf.constant([1, 2], shape=(1, 2))\n",
    "# rhs = tf.constant([3, 4], shape=(2, 1))\n",
    "lhs = tf.placeholder(tf.float32, shape=(1, 2))\n",
    "rhs = tf.placeholder(tf.float32, shape=(2, 1))\n",
    "op = tf.matmul(lhs, rhs)\n",
    "\n",
    "s.run(tf.initialize_all_variables())\n",
    "val = s.run(op, feed_dict = {\n",
    "        lhs: [1, 2], \n",
    "        rhs: tf.transpose([1, 2])})\n",
    "\n",
    "#val = s.run(op)\n",
    "\n",
    "print val\n",
    "\n",
    "s.close()\n",
    "\n",
    "# with tf.Session(config=config) as s:\n",
    "#     retval = s.run(op)\n",
    "   \n",
    "# print retval\n",
    "\n",
    "# input = tf.placeholder(tf.float32, shape=(1, 2))\n",
    "# weights = tf.placeholder(tf.float32, shape=(1, 2))\n",
    "# bias = tf.placeholder(tf.float32)\n",
    "# sum = tf.matmul(input, weights) + bias\n",
    "# activation = tf.nn.sigmoid(sum)\n",
    "\n",
    "# with tf.Session(config=config) as session:\n",
    "#     session.run(tf.initialize_all_variables())\n",
    "#     for i in range(10):\n",
    "#         retval = session.run(\n",
    "#             activation, \n",
    "#             feed_dict={\n",
    "#                 input: [i, i + 1/(i + 1)],\n",
    "#                 weights: [i + 2, i + 3], \n",
    "#                 bias: i / 7\n",
    "#             }\n",
    "#         )\n",
    "#         print retval\n",
    "\n"
   ]
  }
 ],
 "metadata": {
  "kernelspec": {
   "display_name": "Python 2",
   "language": "python",
   "name": "python2"
  },
  "language_info": {
   "codemirror_mode": {
    "name": "ipython",
    "version": 2
   },
   "file_extension": ".py",
   "mimetype": "text/x-python",
   "name": "python",
   "nbconvert_exporter": "python",
   "pygments_lexer": "ipython2",
   "version": "2.7.10"
  }
 },
 "nbformat": 4,
 "nbformat_minor": 0
}
