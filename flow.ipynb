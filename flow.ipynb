{
 "cells": [
  {
   "cell_type": "code",
   "execution_count": 28,
   "metadata": {
    "collapsed": false
   },
   "outputs": [
    {
     "name": "stdout",
     "output_type": "stream",
     "text": [
      "[[ 4.]]\n"
     ]
    }
   ],
   "source": [
    "import tensorflow as tf\n",
    "import numpy as np\n",
    "\n",
    "NUM_CORES = 6\n",
    "\n",
    "config = tf.ConfigProto(\n",
    "    inter_op_parallelism_threads=NUM_CORES,\n",
    "    intra_op_parallelism_threads=NUM_CORES\n",
    ")\n",
    "\n",
    "# x = tf.placeholder(tf.float32, shape=(1, 3), name='x')\n",
    "# W = tf.Variable(tf.ones((3, 1)), name='W')\n",
    "# b = tf.Variable(tf.ones([1]), name='b')\n",
    "\n",
    "# y = tf.matmul(x, W) + b\n",
    "\n",
    "# with tf.Session(config=config) as s:\n",
    "#     s.run(tf.initialize_all_variables())\n",
    "#     val = s.run(y, feed_dict={x: [[1., 1., 1.]]})\n",
    "#     print val\n",
    "\n",
    "x = tf.placeholder(tf.float32, shape=(1, 3), name='x')\n",
    "W = tf.placeholder(tf.float32, shape=(3, 1), name='W')\n",
    "b = tf.Variable(tf.ones([1]), name='b')\n",
    "\n",
    "y = tf.matmul(x, W) + b\n",
    "\n",
    "with tf.Session(config=config) as s:\n",
    "    s.run(tf.initialize_all_variables())\n",
    "    val = s.run(y, \n",
    "        feed_dict={\n",
    "            x: [[1., 1., 1.]], \n",
    "            W:[[1.], [1.], [1.]]\n",
    "        }\n",
    "    )\n",
    "    print val\n",
    "\n",
    "# input = tf.placeholder(tf.float32, shape=(1, 2), name='input')\n",
    "# weights = tf.placeholder(tf.float32, shape=(1, 2), name='weights')\n",
    "# bias = tf.placeholder(tf.float32, name='bias')\n",
    "# sum = tf.matmul(input, weights) + bias\n",
    "# activation = tf.nn.sigmoid(sum)\n",
    "\n",
    "# with tf.Session(config=config) as session:\n",
    "#     session.run(tf.initialize_all_variables())\n",
    "#     for i in range(10):\n",
    "#         retval = session.run(\n",
    "#             activation, \n",
    "#             feed_dict={\n",
    "#                 input: [[i, i + 1/(i + 1)]],\n",
    "#                 weights: [[i + 2], [i + 3]], \n",
    "#                 bias: [i / 7]\n",
    "#             }\n",
    "#         )\n",
    "#         print retval\n",
    "\n"
   ]
  }
 ],
 "metadata": {
  "kernelspec": {
   "display_name": "Python 2",
   "language": "python",
   "name": "python2"
  },
  "language_info": {
   "codemirror_mode": {
    "name": "ipython",
    "version": 2
   },
   "file_extension": ".py",
   "mimetype": "text/x-python",
   "name": "python",
   "nbconvert_exporter": "python",
   "pygments_lexer": "ipython2",
   "version": "2.7.10"
  }
 },
 "nbformat": 4,
 "nbformat_minor": 0
}
