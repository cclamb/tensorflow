{
 "cells": [
  {
   "cell_type": "code",
   "execution_count": 20,
   "metadata": {
    "collapsed": false
   },
   "outputs": [
    {
     "name": "stdout",
     "output_type": "stream",
     "text": [
      "[[ 0.  1.]\n",
      " [ 6.  7.]]\n",
      "[[  6.   7.]\n",
      " [ 16.  17.]]\n",
      "[[ 16.  17.]\n",
      " [ 30.  31.]]\n",
      "[[ 30.  31.]\n",
      " [ 48.  49.]]\n",
      "[[ 48.  49.]\n",
      " [ 70.  71.]]\n",
      "[[ 70.  71.]\n",
      " [ 96.  97.]]\n",
      "[[  96.   97.]\n",
      " [ 126.  127.]]\n",
      "[[ 126.  127.]\n",
      " [ 160.  161.]]\n",
      "[[ 160.  161.]\n",
      " [ 198.  199.]]\n",
      "[[ 198.  199.]\n",
      " [ 240.  241.]]\n"
     ]
    }
   ],
   "source": [
    "import tensorflow as tf\n",
    "\n",
    "NUM_CORES = 6\n",
    "\n",
    "config = tf.ConfigProto(\n",
    "    inter_op_parallelism_threads=NUM_CORES,\n",
    "    intra_op_parallelism_threads=NUM_CORES\n",
    ")\n",
    "\n",
    "lhs = tf.placeholder(tf.float32, shape=(2, 2))\n",
    "rhs = tf.placeholder(tf.float32, shape=(2, 2))\n",
    "op = tf.matmul(lhs, rhs)\n",
    "\n",
    "with tf.Session(config=config) as session:\n",
    "    session.run(tf.initialize_all_variables())\n",
    "    for i in range(10):\n",
    "        retval = session.run(\n",
    "            op, \n",
    "            feed_dict={\n",
    "                lhs: [[i, i + 1],[i + 2, i + 3]], \n",
    "                rhs: [[i + 3, i + 2],[i, i + 1]]\n",
    "            }\n",
    "        )\n",
    "        print retval\n",
    "\n"
   ]
  }
 ],
 "metadata": {
  "kernelspec": {
   "display_name": "Python 2",
   "language": "python",
   "name": "python2"
  },
  "language_info": {
   "codemirror_mode": {
    "name": "ipython",
    "version": 2
   },
   "file_extension": ".py",
   "mimetype": "text/x-python",
   "name": "python",
   "nbconvert_exporter": "python",
   "pygments_lexer": "ipython2",
   "version": "2.7.10"
  }
 },
 "nbformat": 4,
 "nbformat_minor": 0
}
