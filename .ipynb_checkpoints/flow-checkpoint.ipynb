{
 "cells": [
  {
   "cell_type": "code",
   "execution_count": 10,
   "metadata": {
    "collapsed": false
   },
   "outputs": [
    {
     "name": "stdout",
     "output_type": "stream",
     "text": [
      "0.0\n",
      "2.0\n",
      "6.0\n",
      "12.0\n",
      "20.0\n",
      "30.0\n",
      "42.0\n",
      "56.0\n",
      "72.0\n",
      "90.0\n"
     ]
    }
   ],
   "source": [
    "import tensorflow as tf\n",
    "\n",
    "NUM_CORES = 6\n",
    "\n",
    "config = tf.ConfigProto(\n",
    "    inter_op_parallelism_threads=NUM_CORES,\n",
    "    intra_op_parallelism_threads=NUM_CORES\n",
    ")\n",
    "\n",
    "lhs = tf.Variable(0.0)\n",
    "rhs = tf.Variable(0.0)\n",
    "op = tf.mul(lhs, rhs)\n",
    "\n",
    "with tf.Session(config=config) as session:\n",
    "    session.run(tf.initialize_all_variables())\n",
    "    for i in range(10):\n",
    "        retval = session.run(op)\n",
    "        print retval\n",
    "\n"
   ]
  }
 ],
 "metadata": {
  "kernelspec": {
   "display_name": "Python 2",
   "language": "python",
   "name": "python2"
  },
  "language_info": {
   "codemirror_mode": {
    "name": "ipython",
    "version": 2
   },
   "file_extension": ".py",
   "mimetype": "text/x-python",
   "name": "python",
   "nbconvert_exporter": "python",
   "pygments_lexer": "ipython2",
   "version": "2.7.10"
  }
 },
 "nbformat": 4,
 "nbformat_minor": 0
}
