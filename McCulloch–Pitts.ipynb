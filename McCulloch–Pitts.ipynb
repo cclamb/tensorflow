{
 "cells": [
  {
   "cell_type": "code",
   "execution_count": 20,
   "metadata": {
    "collapsed": false
   },
   "outputs": [
    {
     "name": "stdout",
     "output_type": "stream",
     "text": [
      "[[ 0.99998331]]\n"
     ]
    }
   ],
   "source": [
    "import tensorflow as tf\n",
    "import numpy as np\n",
    "\n",
    "NUM_CORES = 6\n",
    "\n",
    "# Initialize the configuration for the system;\n",
    "# This will likely not be needed in the future.\n",
    "config = tf.ConfigProto(\n",
    "    inter_op_parallelism_threads=NUM_CORES,\n",
    "    intra_op_parallelism_threads=NUM_CORES\n",
    ")\n",
    "\n",
    "# Creating the placeholders. Note that we include names\n",
    "# for more informative errors and shapes as tensorflow will\n",
    "# do static size checking.\n",
    "x = tf.placeholder(tf.float32, shape=(1, 10), name='x')\n",
    "W = tf.placeholder(tf.float32, shape=(10, 1), name='W')\n",
    "b = tf.placeholder(tf.float32, shape=(1), name='b')\n",
    "\n",
    "# The fan-in to the summing junction and the summing\n",
    "# operation.\n",
    "y = tf.matmul(x, W) + b\n",
    "\n",
    "# The activation function.\n",
    "a = tf.nn.sigmoid(y)\n",
    "\n",
    "# Initializing and running the session once.\n",
    "with tf.Session(config=config) as s:\n",
    "    s.run(tf.initialize_all_variables())\n",
    "    \n",
    "    W_t = [[1., 1., 1., 1., 1., 1., 1., 1., 1., 1.]]\n",
    "    x_1 = [[1., 1., 1., 1., 1., 1., 1., 1., 1., 1.]]\n",
    "    W_1 = np.transpose(W_t)\n",
    "    b_1 = [1]\n",
    "    \n",
    "    val = s.run(a, \n",
    "        feed_dict={\n",
    "            x: x_1, \n",
    "            W: W_1,\n",
    "            b: b_1\n",
    "        }\n",
    "    )\n",
    "    \n",
    "    print val"
   ]
  }
 ],
 "metadata": {
  "kernelspec": {
   "display_name": "Python 2",
   "language": "python",
   "name": "python2"
  },
  "language_info": {
   "codemirror_mode": {
    "name": "ipython",
    "version": 2
   },
   "file_extension": ".py",
   "mimetype": "text/x-python",
   "name": "python",
   "nbconvert_exporter": "python",
   "pygments_lexer": "ipython2",
   "version": "2.7.10"
  }
 },
 "nbformat": 4,
 "nbformat_minor": 0
}
